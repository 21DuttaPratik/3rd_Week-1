{
 "cells": [
  {
   "cell_type": "code",
   "execution_count": 3,
   "id": "7a2f8009-f8fa-4552-80ca-3b840552e441",
   "metadata": {},
   "outputs": [],
   "source": [
    "# Q1. Which keyword is used to create a function? Create a function to return a list of odd numbers in the\n",
    "# range of 1 to 25.\n",
    "l1=[]\n",
    "l2=[]\n",
    "def odd():\n",
    "    for i in range(1,26):\n",
    "        if(i%2==0):\n",
    "            l1.append(i)\n",
    "        else:\n",
    "            l2.append(i)\n",
    "    return l2\n",
    "        "
   ]
  },
  {
   "cell_type": "code",
   "execution_count": 4,
   "id": "469d46ba-e977-48a6-b61d-ac8c6e44cd3a",
   "metadata": {},
   "outputs": [
    {
     "data": {
      "text/plain": [
       "[1, 3, 5, 7, 9, 11, 13, 15, 17, 19, 21, 23, 25]"
      ]
     },
     "execution_count": 4,
     "metadata": {},
     "output_type": "execute_result"
    }
   ],
   "source": [
    "odd()"
   ]
  },
  {
   "cell_type": "code",
   "execution_count": 5,
   "id": "d9032ef1-5b2b-4b29-9442-c98842499240",
   "metadata": {},
   "outputs": [],
   "source": [
    "# Q2..*args is used when the number of input is not known too us apriory\n",
    "# **kwargs used when the input is in dictionary format to the function\n",
    "def func(*args):\n",
    "    for arg in args:\n",
    "        print(arg)\n",
    "        \n",
    "def func2(**kwargs):\n",
    "    return kwargs\n"
   ]
  },
  {
   "cell_type": "code",
   "execution_count": 6,
   "id": "65c2cbb5-fa0e-44ee-a9b8-d9ad7ccbb0d4",
   "metadata": {},
   "outputs": [
    {
     "name": "stdout",
     "output_type": "stream",
     "text": [
      "1\n",
      "Pratik\n",
      "Dutta\n"
     ]
    }
   ],
   "source": [
    "func(1,\"Pratik\",\"Dutta\")"
   ]
  },
  {
   "cell_type": "code",
   "execution_count": 7,
   "id": "42a91c33-c184-4304-a0be-68bd229b5bee",
   "metadata": {},
   "outputs": [
    {
     "data": {
      "text/plain": [
       "{'a': 'pratik', 'b': [90, 8, 4], 'c': 'dutta'}"
      ]
     },
     "execution_count": 7,
     "metadata": {},
     "output_type": "execute_result"
    }
   ],
   "source": [
    "func2(a=\"pratik\",b=[90,8,4],c=\"dutta\")"
   ]
  },
  {
   "cell_type": "code",
   "execution_count": 8,
   "id": "fa0d155b-f9f7-45ef-a6a3-da7cf64048d5",
   "metadata": {},
   "outputs": [],
   "source": [
    "# Q3. iterators are those object through wich we iterate itarable objects"
   ]
  },
  {
   "cell_type": "code",
   "execution_count": 9,
   "id": "0f2dfc9f-dc5c-4fc9-b084-09e6b6587b51",
   "metadata": {},
   "outputs": [],
   "source": [
    "l6=list(range(2,21,2))"
   ]
  },
  {
   "cell_type": "code",
   "execution_count": 10,
   "id": "131ad95d-de14-450d-a070-16a0230287f1",
   "metadata": {},
   "outputs": [
    {
     "data": {
      "text/plain": [
       "[2, 4, 6, 8, 10, 12, 14, 16, 18, 20]"
      ]
     },
     "execution_count": 10,
     "metadata": {},
     "output_type": "execute_result"
    }
   ],
   "source": [
    "l6"
   ]
  },
  {
   "cell_type": "code",
   "execution_count": 11,
   "id": "113832ef-ceb3-4b4b-9af9-1631d0b2578a",
   "metadata": {},
   "outputs": [],
   "source": [
    "l4=iter(l6)"
   ]
  },
  {
   "cell_type": "code",
   "execution_count": 12,
   "id": "b8a578c2-615b-4026-80ef-606338c0d40b",
   "metadata": {},
   "outputs": [
    {
     "data": {
      "text/plain": [
       "list_iterator"
      ]
     },
     "execution_count": 12,
     "metadata": {},
     "output_type": "execute_result"
    }
   ],
   "source": [
    "type(l4)"
   ]
  },
  {
   "cell_type": "code",
   "execution_count": 13,
   "id": "3c1c62bb-facc-451a-a7e8-50bee29766b1",
   "metadata": {},
   "outputs": [
    {
     "data": {
      "text/plain": [
       "2"
      ]
     },
     "execution_count": 13,
     "metadata": {},
     "output_type": "execute_result"
    }
   ],
   "source": [
    "next(l4)"
   ]
  },
  {
   "cell_type": "code",
   "execution_count": 14,
   "id": "eb3dad35-b7ea-4a4c-b511-e4280bd9ed0a",
   "metadata": {},
   "outputs": [
    {
     "data": {
      "text/plain": [
       "4"
      ]
     },
     "execution_count": 14,
     "metadata": {},
     "output_type": "execute_result"
    }
   ],
   "source": [
    "next(l4)"
   ]
  },
  {
   "cell_type": "code",
   "execution_count": 15,
   "id": "0c83833a-a887-499b-8862-19113b903ea0",
   "metadata": {},
   "outputs": [
    {
     "data": {
      "text/plain": [
       "6"
      ]
     },
     "execution_count": 15,
     "metadata": {},
     "output_type": "execute_result"
    }
   ],
   "source": [
    "next(l4)"
   ]
  },
  {
   "cell_type": "code",
   "execution_count": 16,
   "id": "ad30c749-c91c-40ba-a131-0240428d5975",
   "metadata": {},
   "outputs": [
    {
     "data": {
      "text/plain": [
       "8"
      ]
     },
     "execution_count": 16,
     "metadata": {},
     "output_type": "execute_result"
    }
   ],
   "source": [
    "next(l4)"
   ]
  },
  {
   "cell_type": "code",
   "execution_count": 17,
   "id": "293c88d2-1148-4bc2-88c6-9076e3df0ed6",
   "metadata": {},
   "outputs": [
    {
     "data": {
      "text/plain": [
       "10"
      ]
     },
     "execution_count": 17,
     "metadata": {},
     "output_type": "execute_result"
    }
   ],
   "source": [
    "next(l4)"
   ]
  },
  {
   "cell_type": "code",
   "execution_count": 18,
   "id": "c9eed047-5ab4-4b11-a385-7e3f395e1253",
   "metadata": {},
   "outputs": [],
   "source": [
    "# ## Q.4\n",
    "# generating functions are those functions that create iterable sequence of values on demand\n",
    "# yield keyword works alike return , but it is used in generating functions"
   ]
  },
  {
   "cell_type": "code",
   "execution_count": 19,
   "id": "2be84594-6833-41fe-a75a-993b5ee2f471",
   "metadata": {},
   "outputs": [],
   "source": [
    "def generFib():\n",
    "    a,b=0,1\n",
    "    while True:\n",
    "        yield a\n",
    "        a,b=b,a+b"
   ]
  },
  {
   "cell_type": "code",
   "execution_count": 20,
   "id": "556217e3-2acd-41cc-90be-3498a7090579",
   "metadata": {},
   "outputs": [],
   "source": [
    "fib=generFib()"
   ]
  },
  {
   "cell_type": "code",
   "execution_count": 21,
   "id": "e4319c6b-20e2-4b91-808e-23177abafdeb",
   "metadata": {},
   "outputs": [
    {
     "name": "stdout",
     "output_type": "stream",
     "text": [
      "0\n",
      "1\n",
      "1\n",
      "2\n",
      "3\n",
      "5\n",
      "8\n",
      "13\n",
      "21\n",
      "34\n"
     ]
    }
   ],
   "source": [
    "for i in range(10):\n",
    "    print(next(fib))        #first 10 Fibonacci numbers"
   ]
  },
  {
   "cell_type": "code",
   "execution_count": 22,
   "id": "1fc892b2-0514-4542-90c6-960ff73459e5",
   "metadata": {},
   "outputs": [
    {
     "name": "stdout",
     "output_type": "stream",
     "text": [
      "2\n",
      "3\n",
      "5\n",
      "7\n",
      "11\n",
      "13\n",
      "17\n",
      "19\n",
      "23\n",
      "29\n",
      "31\n",
      "37\n",
      "41\n",
      "43\n",
      "47\n",
      "53\n",
      "59\n",
      "61\n",
      "67\n",
      "71\n"
     ]
    }
   ],
   "source": [
    "# Q.5\n",
    "\n",
    "\n",
    "def is_prime(n):\n",
    "    if n < 2:\n",
    "        return False\n",
    "    for i in range(2, int(n**0.5) + 1):\n",
    "        if n % i == 0:\n",
    "            return False\n",
    "    return True\n",
    "\n",
    "def primes():\n",
    "    number = 2\n",
    "    while number < 1000:\n",
    "        if is_prime(number):\n",
    "            yield number\n",
    "        number += 1\n",
    "\n",
    "prime_generator = primes()\n",
    "\n",
    "for _ in range(20):\n",
    "    print(next(prime_generator))\n"
   ]
  },
  {
   "cell_type": "code",
   "execution_count": 35,
   "id": "c854ec7c-4366-4382-ab70-5ba77e83e27e",
   "metadata": {},
   "outputs": [
    {
     "name": "stdout",
     "output_type": "stream",
     "text": [
      "0\n",
      "1\n",
      "1\n",
      "2\n",
      "3\n",
      "5\n",
      "8\n",
      "13\n",
      "21\n",
      "34\n",
      "55\n"
     ]
    }
   ],
   "source": [
    "# Q.6 first 10 fibonacci number using while loop\n",
    "count=10\n",
    "a,b=0,1\n",
    "print(a)\n",
    "while count!=0:\n",
    "    a,b=b,a+b\n",
    "    print(a)\n",
    "    count=count-1\n",
    "    "
   ]
  },
  {
   "cell_type": "code",
   "execution_count": 37,
   "id": "9f6bb800-3c1d-4637-a34b-00f2a529c77c",
   "metadata": {},
   "outputs": [
    {
     "data": {
      "text/plain": [
       "['p', 'w', 's', 'k', 'i', 'l', 'l', 's']"
      ]
     },
     "execution_count": 37,
     "metadata": {},
     "output_type": "execute_result"
    }
   ],
   "source": [
    "# Q7. Write a List Comprehension to iterate through the given string: ‘pwskills’.\n",
    "# Expected output: ['p', 'w', 's', 'k', 'i', 'l', 'l', 's']\n",
    "\n",
    "string=\"pwskills\"\n",
    "list(map(lambda x: x.lower(),string))"
   ]
  },
  {
   "cell_type": "code",
   "execution_count": 38,
   "id": "6323e772-fe70-44e4-9f81-9600a4398a87",
   "metadata": {},
   "outputs": [
    {
     "name": "stdout",
     "output_type": "stream",
     "text": [
      "['p', 'w', 's', 'k', 'i', 'l', 'l', 's']\n"
     ]
    }
   ],
   "source": [
    "str1=\"pwskills\"\n",
    "l=[]\n",
    "for i in str1:\n",
    "    l.append(i)\n",
    "print(l)"
   ]
  },
  {
   "cell_type": "code",
   "execution_count": 46,
   "id": "2eac3135-5e34-4ed2-8a28-94c22febd35f",
   "metadata": {},
   "outputs": [
    {
     "name": "stdin",
     "output_type": "stream",
     "text": [
      "Enter the number 77\n"
     ]
    },
    {
     "name": "stdout",
     "output_type": "stream",
     "text": [
      "77 is a palindrome\n"
     ]
    }
   ],
   "source": [
    "#8. Palindrome like 1221\n",
    "\n",
    "def is_palindrome(number):\n",
    "    original_number = number\n",
    "    \n",
    "    reversed_number = 0\n",
    "    while number > 0:\n",
    "        digit = number % 10\n",
    "        reversed_number = (reversed_number * 10) + digit\n",
    "        \n",
    "        number = number // 10\n",
    "    \n",
    "    if original_number == reversed_number:\n",
    "        return True\n",
    "    else:\n",
    "        return False\n",
    "\n",
    "num=int(input(\"Enter the number\"))\n",
    "if is_palindrome(num):\n",
    "    print(f\"{num} is a palindrome\")\n",
    "else:\n",
    "    print(f\"{num} is not a palindrome\")\n"
   ]
  },
  {
   "cell_type": "code",
   "execution_count": 49,
   "id": "c0b40a75-8b19-42cc-9c59-f2883bd85661",
   "metadata": {},
   "outputs": [],
   "source": [
    "# Q9. Write a code to print odd numbers from 1 to 100 using list comprehension.\n",
    "# Note: Use a list comprehension to create a list from 1 to 100 and use another List comprehension to filter\n",
    "# out odd numbers.\n",
    "l1= list(range(1,101))"
   ]
  },
  {
   "cell_type": "code",
   "execution_count": 54,
   "id": "cd37ac50-ecd1-4387-ac55-6438ed630b2d",
   "metadata": {},
   "outputs": [],
   "source": [
    "l2=list(filter(lambda x: x%2!=0,l1))"
   ]
  },
  {
   "cell_type": "code",
   "execution_count": 55,
   "id": "a54305dc-38f0-4f04-9320-245fb63cf744",
   "metadata": {},
   "outputs": [
    {
     "data": {
      "text/plain": [
       "[1,\n",
       " 3,\n",
       " 5,\n",
       " 7,\n",
       " 9,\n",
       " 11,\n",
       " 13,\n",
       " 15,\n",
       " 17,\n",
       " 19,\n",
       " 21,\n",
       " 23,\n",
       " 25,\n",
       " 27,\n",
       " 29,\n",
       " 31,\n",
       " 33,\n",
       " 35,\n",
       " 37,\n",
       " 39,\n",
       " 41,\n",
       " 43,\n",
       " 45,\n",
       " 47,\n",
       " 49,\n",
       " 51,\n",
       " 53,\n",
       " 55,\n",
       " 57,\n",
       " 59,\n",
       " 61,\n",
       " 63,\n",
       " 65,\n",
       " 67,\n",
       " 69,\n",
       " 71,\n",
       " 73,\n",
       " 75,\n",
       " 77,\n",
       " 79,\n",
       " 81,\n",
       " 83,\n",
       " 85,\n",
       " 87,\n",
       " 89,\n",
       " 91,\n",
       " 93,\n",
       " 95,\n",
       " 97,\n",
       " 99]"
      ]
     },
     "execution_count": 55,
     "metadata": {},
     "output_type": "execute_result"
    }
   ],
   "source": [
    "l2"
   ]
  },
  {
   "cell_type": "code",
   "execution_count": null,
   "id": "ccabf57f-d979-42ac-9d74-3042e216eadd",
   "metadata": {},
   "outputs": [],
   "source": []
  }
 ],
 "metadata": {
  "kernelspec": {
   "display_name": "Python 3 (ipykernel)",
   "language": "python",
   "name": "python3"
  },
  "language_info": {
   "codemirror_mode": {
    "name": "ipython",
    "version": 3
   },
   "file_extension": ".py",
   "mimetype": "text/x-python",
   "name": "python",
   "nbconvert_exporter": "python",
   "pygments_lexer": "ipython3",
   "version": "3.10.8"
  }
 },
 "nbformat": 4,
 "nbformat_minor": 5
}
